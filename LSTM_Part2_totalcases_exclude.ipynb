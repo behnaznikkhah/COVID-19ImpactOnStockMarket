{
  "nbformat": 4,
  "nbformat_minor": 0,
  "metadata": {
    "colab": {
      "name": "LSTM_Part2_totalcases_exclude.ipynb",
      "provenance": [],
      "collapsed_sections": [],
      "authorship_tag": "ABX9TyMHH8KAt/ekUrmnYe9Vx0bE",
      "include_colab_link": true
    },
    "kernelspec": {
      "name": "python3",
      "display_name": "Python 3"
    }
  },
  "cells": [
    {
      "cell_type": "markdown",
      "metadata": {
        "id": "view-in-github",
        "colab_type": "text"
      },
      "source": [
        "<a href=\"https://colab.research.google.com/github/behnaznikkhah/COVID-19ImpactOnStockMarket/blob/master/LSTM_Part2_totalcases_exclude.ipynb\" target=\"_parent\"><img src=\"https://colab.research.google.com/assets/colab-badge.svg\" alt=\"Open In Colab\"/></a>"
      ]
    },
    {
      "cell_type": "code",
      "metadata": {
        "id": "P8W-5DZUg9h5"
      },
      "source": [
        "import os\n",
        "import pandas as pd\n",
        "from pandas import read_csv\n",
        "from pandas import DataFrame\n",
        "from pandas import concat\n",
        "from numpy import concatenate\n",
        "from math import sqrt\n",
        "import numpy as np\n",
        "from sklearn.preprocessing import MinMaxScaler\n",
        "from sklearn.metrics import mean_squared_error\n",
        "import matplotlib.pyplot as plt \n",
        "import tensorflow as tf\n",
        "from keras.models import Sequential\n",
        "from keras.layers import Dense\n",
        "from keras.layers import LSTM\n",
        "from keras.layers import LeakyReLU\n",
        "import numpy\n"
      ],
      "execution_count": null,
      "outputs": []
    },
    {
      "cell_type": "code",
      "metadata": {
        "colab": {
          "base_uri": "https://localhost:8080/"
        },
        "id": "Dq7N7d1jhBOm",
        "outputId": "3acc159b-2943-4fa5-eef1-174aff44e98c"
      },
      "source": [
        "\n",
        "#load datasets\n",
        "file_path_covid= os.path.abspath(\"\")\n",
        "file_path_market = os.path.abspath(\"\")\n",
        "\n",
        "Covid = pd.read_csv(os.path.join(file_path_covid, 'Covid.csv'))\n",
        "Market = pd.read_csv(os.path.join(file_path_market, 'Market.csv'))\n",
        "\n",
        "#make a copy of covid dataset \n",
        "CovidData = Covid\n",
        "\n",
        "#Impute missing values with the next valid observation \n",
        "CovidData=CovidData.fillna(0)\n",
        "\n",
        "#cumalative cases and deaths\n",
        "CovidData=CovidData[CovidData.Country.eq('World')]\n",
        "\n",
        "#make a copy of markets data\n",
        "MarketData = Market\n",
        "\n",
        "#get the name of unique countries\n",
        "country_list = MarketData.Country.unique().tolist()\n",
        "numbers_list = []\n",
        "countries_dict = {}\n",
        "\n",
        "for i in range(1, 14):\n",
        "    numbers_list.append(i)\n",
        "\n",
        "for key in numbers_list:\n",
        "    for value in country_list:\n",
        "        countries_dict[key] = value \n",
        "        country_list.remove(value)\n",
        "        break\n",
        "    \n",
        "print(\"Below is the list of countries for which you can classify stock market trends using corona virus headlines: \")\n",
        "for key, value in countries_dict.items():\n",
        "    print(key, value, sep=' -> ')\n",
        "\n",
        "option = int(input(\"Enter the number of the country from above list: \"))\n",
        "country = countries_dict.get(option)\n",
        "print(\"The country entered is: \", country)\n",
        "\n",
        "MarketData=MarketData[MarketData.Country.eq(country)]\n",
        "\n",
        "#drop all columns except Date and Price \n",
        "MarketData = MarketData.drop(['Volume','Low','Open','Change','High','Country'], 1)\n",
        "\n",
        "\n",
        "#drop columns\n",
        "CovidData = CovidData.drop(['Country'], 1)\n",
        "\n",
        "#join two dataset\n",
        "result = pd.merge(CovidData, MarketData, how='inner', on=['Date'])\n",
        "\n",
        "#change the order of columns\n",
        "result=result[['Date','Price','ActiveCases','Deaths']]"
      ],
      "execution_count": null,
      "outputs": [
        {
          "output_type": "stream",
          "text": [
            "Below is the list of countries for which you can classify stock market trends using corona virus headlines: \n",
            "1 -> United Arab Emirates\n",
            "2 -> Brazil\n",
            "3 -> France\n",
            "4 -> Germany\n",
            "5 -> United States\n",
            "6 -> Indonesia\n",
            "7 -> South Korea\n",
            "8 -> India\n",
            "9 -> Japan\n",
            "10 -> Australia\n",
            "11 -> Canada\n",
            "12 -> China\n",
            "13 -> South Africa\n",
            "Enter the number of the country from above list: 13\n",
            "The country entered is:  South Africa\n"
          ],
          "name": "stdout"
        }
      ]
    },
    {
      "cell_type": "code",
      "metadata": {
        "id": "rNkUW0jOhtM-"
      },
      "source": [
        "# convert series to supervised learning\n",
        "def series_to_supervised(data, n_in=1, n_out=1, dropnan=True):\n",
        "\tn_vars = 1 if type(data) is list else data.shape[1]\n",
        "\tdf = DataFrame(data)\n",
        "\tcols, names = list(), list()\n",
        "\t# input sequence (t-n, ... t-1)\n",
        "\tfor i in range(n_in, 0, -1):\n",
        "\t\tcols.append(df.shift(i))\n",
        "\t\tnames += [('var%d(t-%d)' % (j+1, i)) for j in range(n_vars)]\n",
        "\t# forecast sequence (t, t+1, ... t+n)\n",
        "\tfor i in range(0, n_out):\n",
        "\t\tcols.append(df.shift(-i))\n",
        "\t\tif i == 0:\n",
        "\t\t\tnames += [('var%d(t)' % (j+1)) for j in range(n_vars)]\n",
        "\t\telse:\n",
        "\t\t\tnames += [('var%d(t+%d)' % (j+1, i)) for j in range(n_vars)]\n",
        "\t# put it all together\n",
        "\tagg = concat(cols, axis=1)\n",
        "\tagg.columns = names\n",
        "\t# drop rows with NaN values\n",
        "\tif dropnan:\n",
        "\t\tagg.dropna(inplace=True)\n",
        "\treturn agg"
      ],
      "execution_count": null,
      "outputs": []
    },
    {
      "cell_type": "code",
      "metadata": {
        "id": "xl1O-lQ-iJQK"
      },
      "source": [
        "# inverse scaling for a forecasted value\n",
        "def invert_scale(scaler, X, value):\n",
        "\tnew_row = [x for x in X] + [value]\n",
        "\tarray = numpy.array(new_row)\n",
        "\tarray = array.reshape(1, len(array))\n",
        "\tinverted = scaler.inverse_transform(array)\n",
        "\treturn inverted[0, -1]"
      ],
      "execution_count": null,
      "outputs": []
    },
    {
      "cell_type": "code",
      "metadata": {
        "id": "Da7nwlt_iV_q"
      },
      "source": [
        "# load dataset\n",
        "dataset = result\n",
        "\n",
        "#set Date column as Index\n",
        "dataset=dataset.set_index('Date')\n",
        "\n",
        "# ensure all data is float\n",
        "values = dataset.values\n",
        "values = values.astype('float32')\n",
        "\n",
        "# frame as supervised learning\n",
        "reframed = series_to_supervised(values, 30,1)\n",
        "\n",
        "# drop columns we don't want to predict\n",
        "lst = [x for x in range(0, 90) if x % 3 == 0]\n",
        "reframed.drop(reframed.columns[lst], axis=1, inplace=True)\n",
        "reframed.drop(reframed.columns[[61,62]], axis=1, inplace=True)\n",
        "\n",
        "# normalize features\n",
        "values = reframed.values\n",
        "scaler = MinMaxScaler(feature_range=(0, 1))\n",
        "scaled = scaler.fit_transform(values)"
      ],
      "execution_count": null,
      "outputs": []
    },
    {
      "cell_type": "code",
      "metadata": {
        "colab": {
          "base_uri": "https://localhost:8080/"
        },
        "id": "TRU_T548sVmd",
        "outputId": "ae802969-3401-4eeb-aa6d-eaa17f683798"
      },
      "source": [
        "# split into train and test sets\n",
        "n_train = 150\n",
        "train = scaled[:n_train, :]\n",
        "test = scaled[n_train:, :]\n",
        "\n",
        "# split into input and outputs\n",
        "train_X, train_y = train[:, :-1], train[:, -1]\n",
        "test_X, test_y = test[:, :-1], test[:, -1]\n",
        "\n",
        "# reshape input to be 3D [samples, timesteps, features]\n",
        "train_X = train_X.reshape((train_X.shape[0], 1, train_X.shape[1]))\n",
        "test_X = test_X.reshape((test_X.shape[0], 1, test_X.shape[1]))\n",
        "\n",
        "print(train_X.shape, train_y.shape, test_X.shape, test_y.shape,scaled.shape)"
      ],
      "execution_count": null,
      "outputs": [
        {
          "output_type": "stream",
          "text": [
            "(150, 1, 60) (150,) (43, 1, 60) (43,) (193, 61)\n"
          ],
          "name": "stdout"
        }
      ]
    },
    {
      "cell_type": "code",
      "metadata": {
        "id": "KOfRa1KDiw8H"
      },
      "source": [
        "#design a LSTM network\n",
        "def lstm_model (activation,optimizer):\n",
        "  tf.keras.backend.clear_session()\n",
        "  tf.random.set_seed(0)\n",
        "  np.random.seed(0)\n",
        "  tf.keras.backend.clear_session()\n",
        "\n",
        "  model = Sequential()\n",
        "  model.add(LSTM(50,activation=activation, return_sequences=True,input_shape=(train_X.shape[1], train_X.shape[2])))\n",
        "  model.add(LSTM(10,activation=activation))\n",
        "  model.add(Dense(1,activation=activation))\n",
        "  model.compile(loss='mse', optimizer = optimizer,metrics=[\"mae\"])\n",
        "  return model"
      ],
      "execution_count": null,
      "outputs": []
    },
    {
      "cell_type": "code",
      "metadata": {
        "id": "wb8uwhkSi0yM"
      },
      "source": [
        "#fit LSTM network for each country\n",
        "if country=='United Arab Emirates':\n",
        "  model=lstm_model(activation=tf.keras.layers.LeakyReLU( ),optimizer ='adam')\n",
        "  history=model.fit(train_X, train_y, epochs = 60,batch_size=1, validation_data=(test_X, test_y), verbose=0)\n",
        "elif country=='Brazil':\n",
        "  model=lstm_model(activation=tf.keras.layers.LeakyReLU( ),optimizer ='adam')\n",
        "  history=model.fit(train_X, train_y, epochs = 70,batch_size=1, validation_data=(test_X, test_y), verbose=0)\n",
        "elif country=='France':\n",
        "  model=lstm_model(activation=tf.keras.layers.LeakyReLU( ),optimizer ='adam')\n",
        "  history=model.fit(train_X, train_y, epochs = 20,batch_size=1, validation_data=(test_X, test_y), verbose=0)\n",
        "elif country == 'Germany':\n",
        "  model=lstm_model(activation=tf.keras.layers.LeakyReLU( ),optimizer =tf.keras.optimizers.Adam(learning_rate=1e-4))\n",
        "  history=model.fit(train_X, train_y, epochs = 30,batch_size=1, validation_data=(test_X, test_y), verbose=0)\n",
        "elif country=='Hong Kong':\n",
        "  model=lstm_model(activation=tf.keras.layers.LeakyReLU( ),optimizer =tf.keras.optimizers.Adam(learning_rate=1e-4))\n",
        "  history=model.fit(train_X, train_y, epochs = 60,batch_size=1, validation_data=(test_X, test_y), verbose=0)\n",
        "elif country == 'Indonesia':\n",
        "  model=lstm_model(activation=tf.keras.layers.LeakyReLU( ),optimizer =tf.keras.optimizers.Adam(learning_rate=1e-4))\n",
        "  history=model.fit(train_X, train_y, epochs = 50,batch_size=1, validation_data=(test_X, test_y), verbose=0)\n",
        "elif country == 'South Korea':\n",
        "  model=lstm_model(activation='sigmoid',optimizer =tf.keras.optimizers.Adam(learning_rate=5e-4))\n",
        "  history=model.fit(train_X, train_y, epochs = 150,batch_size=1, validation_data=(test_X, test_y), verbose=0)\n",
        "elif country =='United States':\n",
        "  model=lstm_model(activation='sigmoid',optimizer ='adam')\n",
        "  history=model.fit(train_X, train_y, epochs = 30,batch_size=1, validation_data=(test_X, test_y), verbose=0)\n",
        "elif country =='India':\n",
        "  model=lstm_model(activation=tf.keras.layers.LeakyReLU( ),optimizer ='adam')\n",
        "  history=model.fit(train_X, train_y, epochs = 30,batch_size=1, validation_data=(test_X, test_y), verbose=0)\n",
        "elif country =='Japan':\n",
        "  model=lstm_model(activation='sigmoid',optimizer =tf.keras.optimizers.Adam(learning_rate=1e-4))\n",
        "  history=model.fit(train_X, train_y, epochs = 100,batch_size=1, validation_data=(test_X, test_y), verbose=0)\n",
        "elif country =='Asutralia':\n",
        "  model=lstm_model(activation=tf.keras.layers.LeakyReLU( ),optimizer ='adam')\n",
        "  history=model.fit(train_X, train_y, epochs = 30,batch_size=1, validation_data=(test_X, test_y), verbose=0)\n",
        "elif country =='Canada':\n",
        "  model=lstm_model(activation=tf.keras.layers.LeakyReLU( ),optimizer ='adam')\n",
        "  history=model.fit(train_X, train_y, epochs = 50,batch_size=1, validation_data=(test_X, test_y), verbose=0)\n",
        "elif country =='China':\n",
        "  model=lstm_model(activation='sigmoid',optimizer =tf.keras.optimizers.Adam(learning_rate=5e-4))\n",
        "  history=model.fit(train_X, train_y, epochs = 150,batch_size=1, validation_data=(test_X, test_y), verbose=0)\n",
        "elif country =='South Africa':\n",
        "  model=lstm_model(activation='sigmoid',optimizer =tf.keras.optimizers.Adam(learning_rate=1e-4))\n",
        "  history=model.fit(train_X, train_y, epochs = 100,batch_size=1, validation_data=(test_X, test_y), verbose=0)\n",
        "else:\n",
        "  print(\"sth wrong happened\")"
      ],
      "execution_count": null,
      "outputs": []
    },
    {
      "cell_type": "code",
      "metadata": {
        "colab": {
          "base_uri": "https://localhost:8080/",
          "height": 295
        },
        "id": "rCCOom2cjiU5",
        "outputId": "b28270ec-6c38-41e4-8029-71107665c83f"
      },
      "source": [
        "#forecast the entire training dataset to build up state for forecasting\n",
        "model.predict(train_X, batch_size=1)\n",
        "\n",
        "#make a one-step forecast\n",
        "forecast = []\n",
        "for time in range(len(scaled)):\n",
        "        X=scaled[time:time+1][:,:-1]\n",
        "        X = X.reshape((1, 1, 60))\n",
        "        yhat = model.predict(X)\n",
        "        new_X=scaled[time, 0:-1]\n",
        "        yhat_invert = invert_scale(scaler, new_X, yhat[0,0])\n",
        "        forecast.append(yhat_invert)\n",
        "\n",
        "plt.plot(forecast,label='forecast')\n",
        "plt.plot(values[:,:][:,-1],label='actual')\n",
        "plt.legend()\n",
        "plt.title(f\"Stock Market Index Price Prediction ({country})\")\n",
        "plt.xlabel('Date')\n",
        "plt.ylabel('Close Price')\n",
        "plt.show()"
      ],
      "execution_count": null,
      "outputs": [
        {
          "output_type": "display_data",
          "data": {
            "image/png": "[encoded data removed]",
            "text/plain": [
              "<Figure size 432x288 with 1 Axes>"
            ]
          },
          "metadata": {
            "tags": [],
            "needs_background": "light"
          }
        }
      ]
    },
    {
      "cell_type": "code",
      "metadata": {
        "colab": {
          "base_uri": "https://localhost:8080/",
          "height": 329
        },
        "id": "EaoPWw3JjNZS",
        "outputId": "13569192-a339-4cb9-dda7-2f376f4847a6"
      },
      "source": [
        "# Evaluate the model \n",
        "print(\"Final loss value:\",model.evaluate(test_X, test_y))\n",
        "\n",
        "# plot history\n",
        "plt.plot(history.history['loss'], label='train')\n",
        "plt.plot(history.history['val_loss'], label='test')\n",
        "plt.legend()\n",
        "plt.title(f\"Model Loss({country})\")\n",
        "plt.xlabel('Epoch')\n",
        "plt.ylabel('Loss')\n",
        "plt.show()"
      ],
      "execution_count": null,
      "outputs": [
        {
          "output_type": "stream",
          "text": [
            "2/2 [==============================] - 0s 3ms/step - loss: 0.0060 - mae: 0.0613\n",
            "Final loss value: [0.006049888674169779, 0.061310481280088425]\n"
          ],
          "name": "stdout"
        },
        {
          "output_type": "display_data",
          "data": {
            "image/png": "[encoded data removed]",
            "text/plain": [
              "<Figure size 432x288 with 1 Axes>"
            ]
          },
          "metadata": {
            "tags": [],
            "needs_background": "light"
          }
        }
      ]
    },
    {
      "cell_type": "code",
      "metadata": {
        "colab": {
          "base_uri": "https://localhost:8080/"
        },
        "id": "JHgEYn77jqP5",
        "outputId": "9d5abc55-5b5b-4414-d7a2-e25360fbd9aa"
      },
      "source": [
        " #calculate MAE\n",
        "print(tf.keras.metrics.mean_absolute_error(values[:,-1], forecast).numpy())\n",
        "\n",
        "# calculate RMSE\n",
        "rmse = sqrt(mean_squared_error(values[:,-1], forecast))\n",
        "print('Test RMSE: %.3f' % rmse)"
      ],
      "execution_count": null,
      "outputs": [
        {
          "output_type": "stream",
          "text": [
            "1941.3176\n",
            "Test RMSE: 3152.375\n"
          ],
          "name": "stdout"
        }
      ]
    }
  ]
}