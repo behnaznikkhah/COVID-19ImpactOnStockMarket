{
  "nbformat": 4,
  "nbformat_minor": 0,
  "metadata": {
    "colab": {
      "name": "Part2_Visualization.ipynb",
      "provenance": [],
      "collapsed_sections": [],
      "include_colab_link": true
    },
    "kernelspec": {
      "name": "python3",
      "display_name": "Python 3"
    }
  },
  "cells": [
    {
      "cell_type": "markdown",
      "metadata": {
        "id": "view-in-github",
        "colab_type": "text"
      },
      "source": [
        "<a href=\"https://colab.research.google.com/github/behnaznikkhah/COVID-19ImpactOnStockMarket/blob/master/Part2_Visualization.ipynb\" target=\"_parent\"><img src=\"https://colab.research.google.com/assets/colab-badge.svg\" alt=\"Open In Colab\"/></a>"
      ]
    },
    {
      "cell_type": "code",
      "metadata": {
        "id": "z2e0KDuZjY4C"
      },
      "source": [
        "\n",
        "import pandas as pd\n",
        "import os\n",
        "import matplotlib.pyplot as plt\n",
        "from sklearn.preprocessing import MinMaxScaler\n",
        "import numpy as np \n",
        "import matplotlib.ticker as ticker\n",
        "from statsmodels.graphics import tsaplots\n",
        "import statsmodels.api as sm\n",
        "import seaborn as sns\n",
        "from IPython.display import display, HTML\n",
        "\n"
      ],
      "execution_count": null,
      "outputs": []
    },
    {
      "cell_type": "code",
      "metadata": {
        "id": "WZGr1CJoeqGh"
      },
      "source": [
        "file_path_covid = os.path.abspath(\"\")\r\n",
        "file_path_market = os.path.abspath(\"\")\r\n",
        "\r\n",
        "# Read in the file content in a DataFrame called owid-covid-data\r\n",
        "data_covid = pd.read_csv(os.path.join(file_path_covid, 'owid-covid-data.csv'))#, parse_dates=['Date'], index_col='Date')\r\n",
        "#display first 5 rows of raw data\r\n",
        "display(data_covid.head(5))"
      ],
      "execution_count": null,
      "outputs": []
    },
    {
      "cell_type": "code",
      "metadata": {
        "id": "pwIJxUWm6O2D"
      },
      "source": [
        "#load MAE datasets\r\n",
        "file_path = os.path.abspath(\"\")\r\n",
        "df_mae = pd.read_excel(os.path.join(file_path, 'final_mae.xlsx'))\r\n"
      ],
      "execution_count": null,
      "outputs": []
    },
    {
      "cell_type": "code",
      "metadata": {
        "id": "XubwQG789p4N"
      },
      "source": [
        "# Create a Figure and an Axes \r\n",
        "fig, ax = plt.subplots(figsize=(24,18))\r\n",
        "#reshaping and categorizing dataset\r\n",
        "mae_cat = df_mae.pivot(\"country\", \"scenario\", \"mae\")\r\n",
        "#using bar plot to compare scenarios' mae for each country\r\n",
        "mae_cat.plot(kind='bar',ax=ax,logy=True,colormap='jet',width=0.8)\r\n",
        "#rename lagend labels\r\n",
        "plt.legend(['worldwide new cases with price exclusion','worldwide total cases with price exclusion','worldwide new cases with price inclusion','worldwide total cases with price inclusion'],bbox_to_anchor=(1.05, 1), loc='upper left', borderaxespad=0.,prop={'size': 15})\r\n",
        "#set the plot title \r\n",
        "plt.title('MAE for different scenario using LSTM to predict market in different countries\\n',fontsize=30)\r\n",
        "#set the axis labels\r\n",
        "plt.xlabel('Country',fontsize=15)\r\n",
        "plt.ylabel('MAE',fontsize=15)\r\n",
        "#set the size of x ticks\r\n",
        "plt.xticks(fontsize=15 )\r\n",
        "#display the plot\r\n",
        "plt.show()"
      ],
      "execution_count": null,
      "outputs": []
    },
    {
      "cell_type": "code",
      "metadata": {
        "id": "EyHiypGZjwls"
      },
      "source": [
        "file_path_covid = os.path.abspath(\"\")\n",
        "file_path_market = os.path.abspath(\"\")\n",
        "\n",
        "# Read in the file content in a DataFrame called CovidData and MarketData\n",
        "data_covid = pd.read_csv(os.path.join(file_path_covid, 'Covid.csv'))#, parse_dates=['Date'], index_col='Date')\n",
        "data_market = pd.read_csv(os.path.join(file_path_market, 'Market.csv'))#, parse_dates=['Date'], index_col='Date')\n",
        "\n",
        "# Display the first five lines of the DataFrame\n",
        "display(data_covid.head(5))\n",
        "print('')\n",
        "print('')\n",
        "print('')\n",
        "\n",
        "display(data_market.head(5))\n",
        "\n",
        "# Change the order of columns\n",
        "data_covid=data_covid[['Date','Deaths','ActiveCases','Country']]\n",
        "data_market=data_market[['Date','Country','Price','Open','Low','High','Volume','Change']]\n",
        "# Convert the date column to a datestamp type\n",
        "data_covid['Date'] = pd.to_datetime(data_covid['Date'])\n",
        "data_market['Date'] = pd.to_datetime(data_market['Date'])\n",
        "# Set the date column as the index of your DataFrame discoveries\n",
        "\n",
        "data_covid = data_covid.set_index('Date')\n",
        "data_market = data_market.set_index('Date')\n",
        "\n",
        "# Print the data type of each column \n",
        "display(data_market.dtypes)\n",
        "display(data_covid.dtypes)\n",
        "\n"
      ],
      "execution_count": null,
      "outputs": []
    },
    {
      "cell_type": "code",
      "metadata": {
        "id": "OoN5YtFun7v5"
      },
      "source": [
        "#join covid data and market data\n",
        "finaldf = pd.merge(data_market,data_covid , how='inner', on=['Date','Country'])\n",
        "#drop unnecesssry columns\n",
        "finaldf = finaldf.drop(['Volume','Low','Open','Change','High'], 1)\n",
        "#display hesd of final data\n",
        "display(finaldf.head())\n"
      ],
      "execution_count": null,
      "outputs": []
    },
    {
      "cell_type": "code",
      "metadata": {
        "id": "KevIb25MTnWA"
      },
      "source": [
        "#create a dictionary of indeces information \n",
        "index_data = {'Definition':  ['Abu Dhabi Securities Exchange (ADX) Composite Index', 'Cotation Assistée en Continu (CAC) 40 Index', \n",
        "            'Deutsche Aktien Xchange (DAX) Performance Index', 'Dow Jones Industrial Average Index', \n",
        "            'Jakarta Composite Index', 'Korea Composite Stock Price Index', 'Nikkei 225 Index', \n",
        "            'S&P/Australian Securities Exchange (S&P/ASX) 200 Index', 'S&P/Toronto Stock Exchange Composite Index (S&P/TSX) Composite Index', \n",
        "            'Shanghai Composite Index', 'National Stock Exchange (NIFTY) 50 Index','Brasil Sao Paulo Stock Exchange Index','South Africa Top 40'],\n",
        "        'Abbreviation': ['ADX','CAC40','GDAXI','DJIA','JKSE','KOSPI','N225','AXJO','GSPTSE','SSEC','NSEI','BVSP','JTOPI'],\n",
        "        'Country':['United Arab Emirates','France','Germany','United States','Indonesia','Korea','Japan',\n",
        "          'Australia','Canada','Shanghai','India','Brazil','South Africa']\n",
        "        }\n",
        "#creat a dataframe of indeces information\n",
        "index_info = pd.DataFrame (index_data, columns = ['Definition','Abbreviation','Country'])\n",
        "#use style function to set values in the center and hide the index \n",
        "style_index_info = index_info.style.set_properties(**{'text-align': 'center'}).hide_index()\n",
        "style_index_info.render()\n",
        "#display indeces information\n",
        "display(style_index_info)"
      ],
      "execution_count": null,
      "outputs": []
    },
    {
      "cell_type": "code",
      "metadata": {
        "id": "uCfvzYC5j6zJ"
      },
      "source": [
        "#a dataframe of the number of Nan values\n",
        "finaldf_nan=finaldf.groupby('Country').apply(lambda x: x.isna().sum())\n",
        "#Specify the plot style\n",
        "plt.style.use('_classic_test_patch')\n",
        "# use bar plot to display nan values in each country \n",
        "ax=finaldf_nan[['Deaths','ActiveCases','Price']].plot(kind='bar')\n",
        "#set the plot title \n",
        "plt.title('Number of missing Values for each country\\n')\n",
        "#set axis labels\n",
        "plt.ylabel('Number of NaN')\n",
        "#dispaly the plot\n",
        "plt.show()\n",
        "\n"
      ],
      "execution_count": null,
      "outputs": []
    },
    {
      "cell_type": "code",
      "metadata": {
        "id": "s96eP9WL_zOe"
      },
      "source": [
        "#replace nan with 0    \n",
        "data_market=data_market.fillna(0)\n",
        "data_covid=data_covid.fillna(0)\n",
        "finaldf=finaldf.fillna(0)"
      ],
      "execution_count": null,
      "outputs": []
    },
    {
      "cell_type": "code",
      "metadata": {
        "id": "yyVEZQjsFTl6"
      },
      "source": [
        "#use ggplot style\n",
        "with plt.style.context('ggplot'):\n",
        "    # Create a Figure and an Axes with plt.subplots\n",
        "    fig, ax = plt.subplots(figsize=(24, 18), linewidth=2)\n",
        "    #draw grid\n",
        "    plt.rcParams[\"axes.grid\"] = True\n",
        "    #get the name of unique countries\n",
        "    countrynames = data_market.Country.unique()\n",
        "    i=1\n",
        "    #set the plot title\n",
        "    fig.suptitle('Number of cumulative Corona deaths',fontweight =\"bold\",fontsize='xx-large')\n",
        "    #using a for loop to plot all countries data as a subplot\n",
        "    for country in countrynames:\n",
        "        #set th eposition of each subplot\n",
        "        plt.subplot(7,2,i)\n",
        "        #get the total deaths data\n",
        "        df_newcases = data_covid[data_covid.Country.eq(country)]['Deaths']\n",
        "        #use a line plot to display number of deaths\n",
        "        df_newcases.plot()\n",
        "        #increase horizental space between each subplot\n",
        "        plt.subplots_adjust(hspace=0.5)\n",
        "        #remove subplot axis labels\n",
        "        plt.ylabel(None)\n",
        "        plt.xlabel(None)\n",
        "        #set countries name as the subplot title\n",
        "        plt.title(f\"{countrynames[i - 1]}\")\n",
        "        i=i+1\n",
        "#set a title for y label\n",
        "plt.ylabel(\"Number of deaths\",position=(0.06,5),fontsize='x-large',fontweight='black')\n"
      ],
      "execution_count": null,
      "outputs": []
    },
    {
      "cell_type": "code",
      "metadata": {
        "id": "NUQZRl-4ntNA"
      },
      "source": [
        "#use ggplot style\r\n",
        "with plt.style.context('ggplot'):\r\n",
        "    # Create a Figure and an Axes with plt.subplots\r\n",
        "    fig, ax = plt.subplots(figsize=(24, 18), linewidth=2)\r\n",
        "    #draw grid\r\n",
        "    plt.rcParams[\"axes.grid\"] = True\r\n",
        "    #get the name of unique countries\r\n",
        "    countrynames = data_market.Country.unique()\r\n",
        "    i=1\r\n",
        "    #set the plot title\r\n",
        "    fig.suptitle('Number of cumulative Corona active cases',fontweight =\"bold\",fontsize='xx-large')\r\n",
        "    #using a for loop to plot all countries data as a subplot\r\n",
        "    for country in countrynames:\r\n",
        "        #set th eposition of each subplot\r\n",
        "        plt.subplot(7,2,i)\r\n",
        "        #get the total active cases data\r\n",
        "        df_newcases = data_covid[data_covid.Country.eq(country)]['ActiveCases']\r\n",
        "        #use a line plot to display number of active cases\r\n",
        "        df_newcases.plot()\r\n",
        "        #increase horizental space between each subplot\r\n",
        "        plt.subplots_adjust(hspace=0.5)\r\n",
        "        #remove subplot axis labels\r\n",
        "        plt.ylabel(None)\r\n",
        "        plt.xlabel(None)\r\n",
        "        #set countries name as the subplot title\r\n",
        "        plt.title(f\"{countrynames[i - 1]}\")\r\n",
        "        i=i+1\r\n",
        "#set a title for y label\r\n",
        "plt.ylabel(\"Number of active cases\",position=(0.06,5),fontsize='x-large',fontweight='black')\r\n"
      ],
      "execution_count": null,
      "outputs": []
    },
    {
      "cell_type": "code",
      "metadata": {
        "id": "FQ5PoFbtoOsi"
      },
      "source": [
        "#use ggplot style\r\n",
        "with plt.style.context('ggplot'):\r\n",
        "    # Create a Figure and an Axes with plt.subplots\r\n",
        "    fig, ax = plt.subplots(figsize=(24, 18), linewidth=2)\r\n",
        "    #draw grid\r\n",
        "    plt.rcParams[\"axes.grid\"] = True\r\n",
        "    #get the name of unique countries\r\n",
        "    countrynames = data_market.Country.unique()\r\n",
        "    i=1\r\n",
        "    #set the plot title\r\n",
        "    fig.suptitle('Number of new Corona deaths',fontweight =\"bold\",fontsize='xx-large')\r\n",
        "    #using a for loop to plot all countries data as a subplot\r\n",
        "    for country in countrynames:\r\n",
        "        #set th eposition of each subplot\r\n",
        "        plt.subplot(7,2,i)\r\n",
        "        #get the number of new deaths for each day\r\n",
        "        df_newcases = data_covid[data_covid.Country.eq(country)]['Deaths'].diff()\r\n",
        "        #use a line plot to display number of new deaths\r\n",
        "        df_newcases.plot()\r\n",
        "        # Compute the 30 days rolling mean of the number of new deaths\r\n",
        "        df_deaths_rolling = data_covid[data_covid.Country.eq(country)]['Deaths'].diff().rolling(window=30).mean()\r\n",
        "        # Plot the mean of new deaths for last 30 days\r\n",
        "        df_deaths_rolling.plot()\r\n",
        "        #increase horizental space between each subplot\r\n",
        "        plt.subplots_adjust(hspace=0.5)\r\n",
        "        #remove subplot axis labels\r\n",
        "        plt.ylabel(None)\r\n",
        "        plt.xlabel(None)\r\n",
        "        #set countries name as the subplot title\r\n",
        "        plt.title(f\"{countrynames[i - 1]}\")\r\n",
        "        i=i+1\r\n",
        "#set a title for y label\r\n",
        "plt.ylabel(\"Number of deaths\",position=(0.06,5),fontsize='x-large',fontweight='black')\r\n"
      ],
      "execution_count": null,
      "outputs": []
    },
    {
      "cell_type": "code",
      "metadata": {
        "id": "aHIJnPVau1SY"
      },
      "source": [
        "#use ggplot style\r\n",
        "with plt.style.context('ggplot'):\r\n",
        "    # Create a Figure and an Axes with plt.subplots\r\n",
        "    fig, ax = plt.subplots(figsize=(24, 18), linewidth=2)\r\n",
        "    #draw grid\r\n",
        "    plt.rcParams[\"axes.grid\"] = True\r\n",
        "    #get the name of unique countries\r\n",
        "    countrynames = data_market.Country.unique()\r\n",
        "    i=1\r\n",
        "    #set the plot title\r\n",
        "    fig.suptitle('Number of new Corona active caes',fontweight =\"bold\",fontsize='xx-large')\r\n",
        "    #using a for loop to plot all countries data as a subplot\r\n",
        "    for country in countrynames:\r\n",
        "        #set th eposition of each subplot\r\n",
        "        plt.subplot(7,2,i)\r\n",
        "        #get the number of new active cases for each day\r\n",
        "        df_newcases = data_covid[data_covid.Country.eq(country)]['ActiveCases'].diff()\r\n",
        "        #use a line plot to display number of new active cases\r\n",
        "        df_newcases.plot()\r\n",
        "        # Compute the 30 days rolling mean of the number of new active cases\r\n",
        "        df_deaths_rolling = data_covid[data_covid.Country.eq(country)]['ActiveCases'].diff().rolling(window=30).mean()\r\n",
        "        # Plot the mean of new active cases for last 30 days\r\n",
        "        df_deaths_rolling.plot()\r\n",
        "        #increase horizental space between each subplot\r\n",
        "        plt.subplots_adjust(hspace=0.5)\r\n",
        "        #remove subplot axis labels\r\n",
        "        plt.ylabel(None)\r\n",
        "        plt.xlabel(None)\r\n",
        "        #set countries name as the subplot title\r\n",
        "        plt.title(f\"{countrynames[i - 1]}\")\r\n",
        "        i=i+1\r\n",
        "#set a title for y label\r\n",
        "plt.ylabel(\"Number of active cases\",position=(0.06,5),fontsize='x-large',fontweight='black')\r\n"
      ],
      "execution_count": null,
      "outputs": []
    },
    {
      "cell_type": "code",
      "metadata": {
        "id": "4w8Rjr2IeqTt"
      },
      "source": [
        "#use ggplot style\n",
        "with plt.style.context('ggplot'):\n",
        "    # Create a Figure and an Axes with plt.subplots\n",
        "    fig, ax = plt.subplots(figsize=(24, 18), linewidth=2)\n",
        "    #draw grid\n",
        "    plt.rcParams[\"axes.grid\"] = False\n",
        "    #get the name of unique countries\n",
        "    countrynames = data_market.Country.unique()\n",
        "    i=1\n",
        "    #set the plot title\n",
        "    fig.suptitle('Stock market Index price',fontweight =\"bold\",fontsize='xx-large')\n",
        "    #using a for loop to plot all countries data as a subplot\n",
        "    for country in countrynames:\n",
        "        #set the position of each subplot\n",
        "        plt.subplot(7,2,i)\n",
        "        #get index price for each country\n",
        "        df_price = data_market[data_market.Country.eq(country)]['Price']\n",
        "        #add a horizental line on 20th Fab\n",
        "        df_price.plot().axvline('2020-02-20', color='red', linestyle='--')\n",
        "        #add a vertical line on 20th Fab\n",
        "        df_price.plot().axhline(data_market[data_market.Country.eq(country)]['Price']['2020-02-20'].values[0], color='green', linestyle='--')\n",
        "        # rotate and align the tick labels\n",
        "        fig.autofmt_xdate() \n",
        "        #remove subplot axis labels\n",
        "        plt.ylabel(None)\n",
        "        plt.xlabel(None)\n",
        "        #set countries name as the subplot title\n",
        "        plt.title(f\"{countrynames[i - 1]}\")\n",
        "        i=i+1\n",
        "#set y label title \n",
        "plt.ylabel(\"close price\",position=(0.06,5),fontsize='x-large',fontweight='black')\n"
      ],
      "execution_count": null,
      "outputs": []
    },
    {
      "cell_type": "code",
      "metadata": {
        "id": "RYCeSHyPhXg8"
      },
      "source": [
        "# Create a Figure \n",
        "fig=plt.figure(figsize=(24, 24))\n",
        "i=1\n",
        "for country in countrynames:\n",
        "    #set the position of each subplot\n",
        "    plt.subplot(7, 2, i)\n",
        "    #get index price for each country\n",
        "    df_price = data_market[data_market.Country.eq(country)]['Price']\n",
        "    #plot distribution of index price\n",
        "    sns.distplot(df_price, bins=100, color='purple')\n",
        "    #remove subplot axis labels\n",
        "    plt.ylabel('')\n",
        "    plt.xlabel('')\n",
        "    #set countries name as the subplot title\n",
        "    plt.title(f'{countrynames[i - 1]}')\n",
        "    plt.subplots_adjust(hspace=0.5)\n",
        "    i+=1\n",
        "#set y label title \n",
        "fig.suptitle('Stock market Index price distribution',position=(0.5,.93),fontweight =\"semibold\",fontsize='x-large')\n"
      ],
      "execution_count": null,
      "outputs": []
    },
    {
      "cell_type": "code",
      "metadata": {
        "id": "rYVRJZTlFbV7"
      },
      "source": [
        "#using seaborns box plot\r\n",
        "ax = sns.boxplot(y=\"Country\", x=\"ActiveCases\", data=finaldf,orient=\"h\")\r\n",
        "#set plot title\r\n",
        "ax.set_title('Number of Corona active cases in each country')\r\n"
      ],
      "execution_count": null,
      "outputs": []
    },
    {
      "cell_type": "code",
      "metadata": {
        "id": "Y4025JsSKTBn"
      },
      "source": [
        "#using seaborns box plot\r\n",
        "ax = sns.boxplot(y=\"Country\", x=\"Deaths\", data=finaldf,orient=\"h\")\r\n",
        "#set plot title\r\n",
        "ax.set_title('Number of Corona deaths in each country')\r\n"
      ],
      "execution_count": null,
      "outputs": []
    },
    {
      "cell_type": "code",
      "metadata": {
        "id": "Y2jLVui0oIU9"
      },
      "source": [
        "#get the name of unique countries\r\n",
        "countrynames = data_market.Country.unique()\r\n",
        "i=1\r\n",
        "#using a for loop to plot all countries data\r\n",
        "for country,i in zip(countrynames, range(1,14)):\r\n",
        "  #get index price for each country\r\n",
        "  df_price=data_market[data_market.Country.eq(country)]['Price']\r\n",
        "  # Perform time series decompositon\r\n",
        "  decomposition = sm.tsa.seasonal_decompose(df_price_canada,model='multiplicative', freq = 30)\r\n",
        "  #plot decomposition series\r\n",
        "  fig=decomposition.plot()\r\n",
        "  #set supplots title \r\n",
        "  fig.suptitle(f\"Stock market Index price decomposition ({countrynames[i - 1]})\",position=(.6,1.1),fontweight =\"semibold\",fontsize='large')\r\n",
        "  #display plot\r\n",
        "  plt.show()\r\n"
      ],
      "execution_count": null,
      "outputs": []
    },
    {
      "cell_type": "code",
      "metadata": {
        "id": "psBPaHjr_bjQ"
      },
      "source": [
        "#get the name of unique countries\n",
        "countrynames = data_market.Country.unique()\n",
        "i=1\n",
        "#using a for loop to plot all countries data\n",
        "for country,i in zip(countrynames, range(1,14)):\n",
        "    #get world-wise covid data\n",
        "    data_covid_world=data_covid[data_covid.Country.eq('World')]\n",
        "    #get market data for each country\n",
        "    data_market_country=data_market[data_market.Country.eq(country)]\n",
        "    #join world-wise covid data and market data\n",
        "    finaldf2 = pd.merge(data_market_country,data_covid_world , how='inner', on=['Date'])\n",
        "    #drop unwanted column\n",
        "    finaldf2= finaldf2.drop(['Volume','Low','Open','Change','High'], 1)\n",
        "    #fill nan values with 0\n",
        "    finaldf2=finaldf2.fillna(0)\n",
        "    #add new active cases as a new column\n",
        "    finaldf2['New-ActiveCases']=finaldf2['ActiveCases'].diff()\n",
        "    #add new deaths as a new column\n",
        "    finaldf2['New-Deaths']=finaldf2['Deaths'].diff()\n",
        "    # Get correlation matrix \n",
        "    corr_result =finaldf2.corr(method='spearman')\n",
        "    # Customize the heatmap of the  correlation matrix and rotate the x-axis labels\n",
        "    fig = sns.clustermap(corr_result,\n",
        "                        row_cluster=True,\n",
        "                        col_cluster=True,\n",
        "                        figsize=(10, 10))\n",
        "    #set plot title\n",
        "    fig.fig.suptitle(f\"Features correlation ({countrynames[i - 1]})\",position=(0.6,1.1),fontweight =\"semibold\",fontsize='large')\n",
        "    #rotate axis tick labels\n",
        "    plt.setp(fig.ax_heatmap.xaxis.get_majorticklabels(), rotation=90)\n",
        "    plt.setp(fig.ax_heatmap.yaxis.get_majorticklabels(), rotation=0)\n",
        "    plt.show()"
      ],
      "execution_count": null,
      "outputs": []
    },
    {
      "cell_type": "code",
      "metadata": {
        "id": "jeupesfU2BKE"
      },
      "source": [
        "#get the name of unique countries\r\n",
        "countrynames = data_market.Country.unique()\r\n",
        "i=1\r\n",
        "#using a for loop to plot all countries data\r\n",
        "for country,i in zip(countrynames, range(1,14)):\r\n",
        "    #get country-wise covid data\r\n",
        "    data_covid_world=data_covid[data_covid.Country.eq(country)]\r\n",
        "    #get market data for each country\r\n",
        "    data_market_country=data_market[data_market.Country.eq(country)]\r\n",
        "    #join country-wise covid data and market data\r\n",
        "    finaldf2 = pd.merge(data_market_country,data_covid_world , how='inner', on=['Date'])\r\n",
        "    #drop unwanted column\r\n",
        "    finaldf2= finaldf2.drop(['Volume','Low','Open','Change','High'], 1)\r\n",
        "    #fill nan values with 0\r\n",
        "    finaldf2=finaldf2.fillna(0)\r\n",
        "    #add new active cases as a new column\r\n",
        "    finaldf2['New-ActiveCases']=finaldf2['ActiveCases'].diff()\r\n",
        "    #add new deaths as a new column\r\n",
        "    finaldf2['New-Deaths']=finaldf2['Deaths'].diff()\r\n",
        "    #using pairplot to show feautures relationship\r\n",
        "    fig = sns.pairplot(finaldf2, kind='reg')\r\n",
        "    #set supplots title \r\n",
        "    fig.fig.suptitle(f\"Features relationship ({countrynames[i - 1]})\",position=(0.6,1.1),fontweight =\"semibold\",fontsize='large')\r\n",
        "    #display plot\r\n",
        "    plt.show()"
      ],
      "execution_count": null,
      "outputs": []
    }
  ]
}